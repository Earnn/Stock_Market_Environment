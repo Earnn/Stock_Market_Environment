{
 "cells": [
  {
   "cell_type": "code",
   "execution_count": 1,
   "metadata": {
    "collapsed": true
   },
   "outputs": [],
   "source": [
    "def area(w=0,h=0):\n",
    "    return w*h\n",
    "def perim(w=0,h=0):\n",
    "    return 2*(w+h)"
   ]
  },
  {
   "cell_type": "code",
   "execution_count": 2,
   "metadata": {},
   "outputs": [
    {
     "name": "stdout",
     "output_type": "stream",
     "text": [
      "area: 6\n",
      "perim: 10\n"
     ]
    }
   ],
   "source": [
    "w=2;h=3;\n",
    "print(\"area: {}\".format(area(w,h))) \n",
    "print(\"perim: {}\".format(perim(w,h)))"
   ]
  },
  {
   "cell_type": "code",
   "execution_count": 3,
   "metadata": {
    "collapsed": true
   },
   "outputs": [],
   "source": [
    "class Rect:\n",
    "    def __init__(self,_w=0,_h=0):\n",
    "        self.w=_w\n",
    "        self.h=_h\n",
    "        \n",
    "    def area(self):\n",
    "        return self.w*self.h\n",
    "    def perim(self):\n",
    "        return 2*(self.w+self.h)"
   ]
  },
  {
   "cell_type": "code",
   "execution_count": 4,
   "metadata": {
    "collapsed": true
   },
   "outputs": [],
   "source": [
    "x=Rect(2,3)"
   ]
  },
  {
   "cell_type": "code",
   "execution_count": 5,
   "metadata": {},
   "outputs": [
    {
     "data": {
      "text/plain": [
       "__main__.Rect"
      ]
     },
     "execution_count": 5,
     "metadata": {},
     "output_type": "execute_result"
    }
   ],
   "source": [
    "type(x)"
   ]
  },
  {
   "cell_type": "code",
   "execution_count": 6,
   "metadata": {},
   "outputs": [
    {
     "data": {
      "text/plain": [
       "6"
      ]
     },
     "execution_count": 6,
     "metadata": {},
     "output_type": "execute_result"
    }
   ],
   "source": [
    "x.area()"
   ]
  },
  {
   "cell_type": "code",
   "execution_count": 7,
   "metadata": {},
   "outputs": [
    {
     "data": {
      "text/plain": [
       "10"
      ]
     },
     "execution_count": 7,
     "metadata": {},
     "output_type": "execute_result"
    }
   ],
   "source": [
    "x.perim()"
   ]
  },
  {
   "cell_type": "code",
   "execution_count": 8,
   "metadata": {
    "collapsed": true
   },
   "outputs": [],
   "source": [
    "rects=[]\n",
    "for i in range(10):\n",
    "    rects.append( Rect(i,i+1) )"
   ]
  },
  {
   "cell_type": "code",
   "execution_count": 9,
   "metadata": {},
   "outputs": [
    {
     "name": "stdout",
     "output_type": "stream",
     "text": [
      "w: 0, h: 1, area: 0, perim:2\n",
      "w: 1, h: 2, area: 2, perim:6\n",
      "w: 2, h: 3, area: 6, perim:10\n",
      "w: 3, h: 4, area: 12, perim:14\n",
      "w: 4, h: 5, area: 20, perim:18\n",
      "w: 5, h: 6, area: 30, perim:22\n",
      "w: 6, h: 7, area: 42, perim:26\n",
      "w: 7, h: 8, area: 56, perim:30\n",
      "w: 8, h: 9, area: 72, perim:34\n",
      "w: 9, h: 10, area: 90, perim:38\n"
     ]
    }
   ],
   "source": [
    "for i in rects:\n",
    "    print(\"w: {}, h: {}, area: {}, perim:{}\".format(i.w, i.h, i.area(), i.perim()))"
   ]
  },
  {
   "cell_type": "code",
   "execution_count": 10,
   "metadata": {
    "collapsed": true
   },
   "outputs": [],
   "source": [
    "class Rect2(object):\n",
    "    def __init__(self,_w=0,_h=0):\n",
    "        self.w=_w\n",
    "        self.h=_h\n",
    "        \n",
    "    def area(self):\n",
    "        return self.w*self.h\n",
    "    def perim(self):\n",
    "        return 2*(self.w+self.h)\n",
    "    "
   ]
  },
  {
   "cell_type": "code",
   "execution_count": 11,
   "metadata": {
    "collapsed": true
   },
   "outputs": [],
   "source": [
    "class Square(Rect2):\n",
    "    def __init__(self,_e=0):\n",
    "        self.w=_e\n",
    "        self.h=_e\n",
    "    def inner_cir_area(self):\n",
    "        return 3.14159*self.w*self.w*0.5\n",
    "    def __str__(self):\n",
    "        return \"w: {}, h: {}, area: {}, perim:{}\".format(self.w, self.h, self.area(), self.perim())"
   ]
  },
  {
   "cell_type": "code",
   "execution_count": 12,
   "metadata": {
    "collapsed": true
   },
   "outputs": [],
   "source": [
    "x=Square(4) #initialization"
   ]
  },
  {
   "cell_type": "code",
   "execution_count": 13,
   "metadata": {},
   "outputs": [
    {
     "data": {
      "text/plain": [
       "16"
      ]
     },
     "execution_count": 13,
     "metadata": {},
     "output_type": "execute_result"
    }
   ],
   "source": [
    "x.area()"
   ]
  },
  {
   "cell_type": "code",
   "execution_count": 14,
   "metadata": {},
   "outputs": [
    {
     "data": {
      "text/plain": [
       "16"
      ]
     },
     "execution_count": 14,
     "metadata": {},
     "output_type": "execute_result"
    }
   ],
   "source": [
    "x.perim()"
   ]
  },
  {
   "cell_type": "code",
   "execution_count": 15,
   "metadata": {},
   "outputs": [
    {
     "data": {
      "text/plain": [
       "25.13272"
      ]
     },
     "execution_count": 15,
     "metadata": {},
     "output_type": "execute_result"
    }
   ],
   "source": [
    "x.inner_cir_area()"
   ]
  },
  {
   "cell_type": "code",
   "execution_count": 16,
   "metadata": {},
   "outputs": [
    {
     "name": "stdout",
     "output_type": "stream",
     "text": [
      "w: 4, h: 4, area: 16, perim:16\n"
     ]
    }
   ],
   "source": [
    "print(x)"
   ]
  },
  {
   "cell_type": "code",
   "execution_count": null,
   "metadata": {
    "collapsed": true
   },
   "outputs": [],
   "source": []
  }
 ],
 "metadata": {
  "kernelspec": {
   "display_name": "Python [conda env:tensorflow_c]",
   "language": "python",
   "name": "conda-env-tensorflow_c-py"
  },
  "language_info": {
   "codemirror_mode": {
    "name": "ipython",
    "version": 3
   },
   "file_extension": ".py",
   "mimetype": "text/x-python",
   "name": "python",
   "nbconvert_exporter": "python",
   "pygments_lexer": "ipython3",
   "version": "3.6.2"
  }
 },
 "nbformat": 4,
 "nbformat_minor": 2
}
