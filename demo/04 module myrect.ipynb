{
 "cells": [
  {
   "cell_type": "code",
   "execution_count": 1,
   "metadata": {},
   "outputs": [
    {
     "name": "stdout",
     "output_type": "stream",
     "text": [
      " Volume in drive C has no label.\n",
      " Volume Serial Number is A8BF-C894\n",
      "\n",
      " Directory of C:\\Users\\Wasit\\Documents\\GitHub\\data_analytics\\demo\n",
      "\n",
      "18/09/2017  01:06    <DIR>          .\n",
      "18/09/2017  01:06    <DIR>          ..\n",
      "18/09/2017  01:06    <DIR>          .ipynb_checkpoints\n",
      "18/09/2017  01:02            22,644 01 Variable.ipynb\n",
      "18/09/2017  01:03            16,339 02 word count.ipynb\n",
      "18/09/2017  01:04             5,940 03 Python Class.ipynb\n",
      "18/09/2017  01:06             2,623 04 module myrect.ipynb\n",
      "03/03/2017  16:36            96,644 05 Titanic Survival Prediction .ipynb\n",
      "10/03/2017  14:02           130,321 06 Titanic Clustering.ipynb\n",
      "18/09/2017  00:58           844,805 10 Trading.ipynb\n",
      "18/09/2017  00:58    <DIR>          data_set\n",
      "13/07/2017  12:07             4,084 Little Red Riding Hood.txt\n",
      "18/09/2017  01:07    <DIR>          myrect\n",
      "02/03/2017  16:18            61,194 train.csv\n",
      "               9 File(s)      1,184,594 bytes\n",
      "               5 Dir(s)  261,051,133,952 bytes free\n"
     ]
    }
   ],
   "source": [
    "ls"
   ]
  },
  {
   "cell_type": "code",
   "execution_count": 2,
   "metadata": {
    "collapsed": true
   },
   "outputs": [],
   "source": [
    "import myrect as mr"
   ]
  },
  {
   "cell_type": "code",
   "execution_count": 3,
   "metadata": {
    "collapsed": true
   },
   "outputs": [],
   "source": [
    "x=mr.Rect(3,4)"
   ]
  },
  {
   "cell_type": "code",
   "execution_count": 4,
   "metadata": {},
   "outputs": [
    {
     "name": "stdout",
     "output_type": "stream",
     "text": [
      "w: 3, h: 4, area: 12, perim:14\n"
     ]
    }
   ],
   "source": [
    "print(x)"
   ]
  },
  {
   "cell_type": "code",
   "execution_count": null,
   "metadata": {
    "collapsed": true
   },
   "outputs": [],
   "source": []
  }
 ],
 "metadata": {
  "kernelspec": {
   "display_name": "Python [conda env:tensorflow_c]",
   "language": "python",
   "name": "conda-env-tensorflow_c-py"
  },
  "language_info": {
   "codemirror_mode": {
    "name": "ipython",
    "version": 3
   },
   "file_extension": ".py",
   "mimetype": "text/x-python",
   "name": "python",
   "nbconvert_exporter": "python",
   "pygments_lexer": "ipython3",
   "version": "3.6.2"
  }
 },
 "nbformat": 4,
 "nbformat_minor": 2
}
